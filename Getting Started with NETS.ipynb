{
 "cells": [
  {
   "cell_type": "markdown",
   "metadata": {},
   "source": [
    "# **Getting Started with NETS**\n",
    "\n",
    "**NETS** is a vanilla Deep Learning framework, made using only **NumPy**.\n",
    "This project was first introduced as an assignment I made at the [University of Oslo](https://www.uio.no/studier/emner/matnat/ifi/IN5400/) and [Stanford University](http://cs231n.stanford.edu/syllabus.html)\n",
    ".\n",
    "However, this project was recreated to make it *object-oriented like*.\n",
    "**NETS** was highly inspired from [PyTorch](https://pytorch.org/) and [TensorFlow](https://www.tensorflow.org/)\n",
    "\n",
    "Requirements :\n",
    "\n",
    "- Numpy\n",
    "- Json (Optional)\n",
    "- Time (Optional)\n",
    "- Pandas (Optional)\n",
    "- Scipy (Optional)\n",
    "- Scikit-Learn (Optional)"
   ]
  },
  {
   "cell_type": "code",
   "execution_count": 1,
   "metadata": {},
   "outputs": [],
   "source": [
    "import os\n",
    "import random\n",
    "import numpy as np\n",
    "import matplotlib\n",
    "import matplotlib.pyplot as plt\n",
    "\n",
    "# This is a bit of magic to make matplotlib figures appear inline in the notebook\n",
    "# rather than in a new window.\n",
    "%matplotlib inline\n",
    "plt.rcParams['figure.figsize'] = (10.0, 8.0) # set default size of plots\n",
    "plt.rcParams['image.interpolation'] = 'nearest'\n",
    "\n",
    "# Configure the style of a plot\n",
    "matplotlib.style.use('seaborn-darkgrid')\n",
    "# Change the font ?\n",
    "# font = {'size'   : 15}\n",
    "# matplotlib.rc('font', **font)"
   ]
  },
  {
   "cell_type": "code",
   "execution_count": 2,
   "metadata": {},
   "outputs": [],
   "source": [
    "import nets\n",
    "import nets.nn as nn\n",
    "\n",
    "model = nn.Sequential(nn.Linear(3, 10), \n",
    "                      nn.ReLU(),\n",
    "                      nn.Linear(10, 2))"
   ]
  },
  {
   "cell_type": "code",
   "execution_count": 3,
   "metadata": {},
   "outputs": [],
   "source": [
    "X = (np.random.rand(100, 3) * 2 - 1) / 2"
   ]
  },
  {
   "cell_type": "code",
   "execution_count": 4,
   "metadata": {},
   "outputs": [
    {
     "name": "stdout",
     "output_type": "stream",
     "text": [
      "Sanity check:\n",
      "Expected mean: 0, real mean: -0.0185\n"
     ]
    }
   ],
   "source": [
    "print(f\"Sanity check:\")\n",
    "print(f\"Expected mean: 0, real mean: {X.sum(axis=1).mean():1.4f}\")"
   ]
  },
  {
   "cell_type": "code",
   "execution_count": 5,
   "metadata": {},
   "outputs": [],
   "source": [
    "Y = model(X)"
   ]
  },
  {
   "cell_type": "code",
   "execution_count": 6,
   "metadata": {},
   "outputs": [
    {
     "name": "stdout",
     "output_type": "stream",
     "text": [
      "<nets.nn.linear.Linear object at 0x00000178409E0208>\n",
      "<nets.nn.activation.ReLU object at 0x0000017840A03748>\n",
      "<nets.nn.linear.Linear object at 0x0000017840A03848>\n"
     ]
    }
   ],
   "source": [
    "for value in model.modules():\n",
    "    print(value)"
   ]
  },
  {
   "cell_type": "code",
   "execution_count": 7,
   "metadata": {},
   "outputs": [
    {
     "name": "stdout",
     "output_type": "stream",
     "text": [
      "1\n",
      "1\n",
      "1\n"
     ]
    }
   ],
   "source": [
    "for cache in model.cache():\n",
    "    print(len(cache))"
   ]
  },
  {
   "cell_type": "code",
   "execution_count": 8,
   "metadata": {},
   "outputs": [
    {
     "name": "stdout",
     "output_type": "stream",
     "text": [
      "{}\n",
      "{}\n",
      "{}\n"
     ]
    }
   ],
   "source": [
    "for grad in model.gradients():\n",
    "    print(grad)"
   ]
  },
  {
   "cell_type": "code",
   "execution_count": 9,
   "metadata": {},
   "outputs": [
    {
     "data": {
      "text/plain": [
       "{}"
      ]
     },
     "execution_count": 9,
     "metadata": {},
     "output_type": "execute_result"
    }
   ],
   "source": [
    "layer = model._modules['linear0']\n",
    "layer._grads"
   ]
  },
  {
   "cell_type": "code",
   "execution_count": null,
   "metadata": {},
   "outputs": [],
   "source": []
  },
  {
   "cell_type": "code",
   "execution_count": null,
   "metadata": {},
   "outputs": [],
   "source": []
  },
  {
   "cell_type": "code",
   "execution_count": null,
   "metadata": {},
   "outputs": [],
   "source": []
  },
  {
   "cell_type": "code",
   "execution_count": null,
   "metadata": {},
   "outputs": [],
   "source": []
  },
  {
   "cell_type": "code",
   "execution_count": null,
   "metadata": {},
   "outputs": [],
   "source": []
  },
  {
   "cell_type": "code",
   "execution_count": null,
   "metadata": {},
   "outputs": [],
   "source": []
  },
  {
   "cell_type": "code",
   "execution_count": 1,
   "metadata": {},
   "outputs": [],
   "source": [
    "from nets.tensor import Tensor\n",
    "from nets.nn import Module\n",
    "from nets.nn.loss import Loss, MSE\n",
    "from nets.optim import Optimizer, SGD\n",
    "from nets.data.batch import BatchIterator\n",
    "\n",
    "\n",
    "def train(net, inputs, targets, optimizer, loss,\n",
    "          num_epochs = 5000, iterator = BatchIterator()):\n",
    "    epochs = []\n",
    "    for epoch in range(num_epochs):\n",
    "        epoch_loss = 0.0\n",
    "        for batch in iterator(inputs, targets):\n",
    "            predicted = net.forward(batch.inputs)\n",
    "            epoch_loss += loss.loss(predicted, batch.targets)\n",
    "            grad = loss.grad(predicted, batch.targets)\n",
    "            net.backward(grad)\n",
    "            optimizer.step()\n",
    "            epochs.append(epoch_loss)\n",
    "        print(f\"\\r{epoch}, {epoch_loss:E}\", end=\"\")\n",
    "    return epochs"
   ]
  },
  {
   "cell_type": "code",
   "execution_count": 4,
   "metadata": {},
   "outputs": [
    {
     "name": "stdout",
     "output_type": "stream",
     "text": [
      "327, NAN80627E+308"
     ]
    },
    {
     "name": "stderr",
     "output_type": "stream",
     "text": [
      "D:\\home\\Arthur\\Documents\\Informatique\\GitHub\\nets\\nets\\nn\\loss.py:72: RuntimeWarning: overflow encountered in square\n",
      "  return np.sum((predicted - actual) ** 2)\n"
     ]
    },
    {
     "name": "stdout",
     "output_type": "stream",
     "text": [
      "4999, NAN"
     ]
    }
   ],
   "source": [
    "import numpy as np\n",
    "\n",
    "import nets.nn as nn\n",
    "from nets.nn import Sequential\n",
    "from nets.nn import Linear, ReLU, Tanh\n",
    "\n",
    "inputs = np.array([[0, 0],\n",
    "                   [1, 0],\n",
    "                   [0, 1],\n",
    "                   [1, 1]])\n",
    "\n",
    "targets = np.array([[1, 0],\n",
    "                    [0, 1],\n",
    "                    [0, 1],\n",
    "                    [1, 0]])\n",
    "\n",
    "net = nn.Sequential(\n",
    "                    Linear(2, 100),\n",
    "                    Tanh(),\n",
    "                    Linear(100, 2)\n",
    "                )\n",
    "\n",
    "\n",
    "loss = MSE()\n",
    "optimizer = SGD(net, lr=0.1)\n",
    "epochs = train(net, inputs, targets, optimizer, loss)\n",
    "\n",
    "# for x, y in zip(inputs, targets):\n",
    "#     predicted = net.forward(x)"
   ]
  },
  {
   "cell_type": "code",
   "execution_count": 3,
   "metadata": {},
   "outputs": [
    {
     "data": {
      "text/plain": [
       "[<matplotlib.lines.Line2D at 0x210d7668488>]"
      ]
     },
     "execution_count": 3,
     "metadata": {},
     "output_type": "execute_result"
    },
    {
     "data": {
      "image/png": "[encoded data removed]",
      "text/plain": [
       "<Figure size 432x288 with 1 Axes>"
      ]
     },
     "metadata": {
      "needs_background": "light"
     },
     "output_type": "display_data"
    }
   ],
   "source": [
    "import matplotlib.pyplot as plt\n",
    "\n",
    "plt.plot(epochs)"
   ]
  },
  {
   "cell_type": "code",
   "execution_count": null,
   "metadata": {},
   "outputs": [],
   "source": [
    "issubclass(Sequential, Module)"
   ]
  },
  {
   "cell_type": "code",
   "execution_count": null,
   "metadata": {},
   "outputs": [],
   "source": [
    "issubclass(Linear, Module)"
   ]
  },
  {
   "cell_type": "code",
   "execution_count": null,
   "metadata": {},
   "outputs": [],
   "source": [
    "Linear"
   ]
  },
  {
   "cell_type": "code",
   "execution_count": null,
   "metadata": {},
   "outputs": [],
   "source": [
    "Module"
   ]
  },
  {
   "cell_type": "code",
   "execution_count": null,
   "metadata": {},
   "outputs": [],
   "source": []
  },
  {
   "cell_type": "code",
   "execution_count": 35,
   "metadata": {},
   "outputs": [],
   "source": [
    "net = Sequential(Linear(2, 10),\n",
    "                 Tanh(),\n",
    "                 Linear(10, 10),\n",
    "                 Tanh(),\n",
    "                 Linear(10, 2))"
   ]
  },
  {
   "cell_type": "code",
   "execution_count": 11,
   "metadata": {},
   "outputs": [],
   "source": [
    "import numpy as np\n",
    "import inspect\n",
    "\n",
    "class Tensor2:\n",
    "    def __init__(self,\n",
    "                 data,\n",
    "                 requires_grad = False):\n",
    "        self._data = np.array(data)\n",
    "        self.requires_grad = requires_grad\n",
    "        self.shape = self._data.shape\n",
    "        self.grad = None\n",
    "\n",
    "        if self.requires_grad:\n",
    "            self.zero_grad()\n",
    "\n",
    "    @property\n",
    "    def data(self):\n",
    "        return self._data\n",
    "\n",
    "    @data.setter\n",
    "    def data(self, new_data):\n",
    "        self._data = new_data\n",
    "        # Setting the data manually means we invalidate the gradient.\n",
    "        self.grad = None\n",
    "\n",
    "    def zero_grad(self):\n",
    "        self.grad = Tensor(np.zeros_like(self.data, dtype=np.float64))\n",
    "\n",
    "    def __repr__(self):\n",
    "        return f\"Tensor({self.data}, requires_grad={self.requires_grad})\""
   ]
  },
  {
   "cell_type": "code",
   "execution_count": 12,
   "metadata": {},
   "outputs": [],
   "source": [
    "class Parameter(Tensor2):\n",
    "    def __init__(self, *shape) -> None:\n",
    "        data = np.random.randn(*shape)\n",
    "        super().__init__(data)\n",
    "\n",
    "class Test:\n",
    "    def parameters(self):\n",
    "        for name, value in inspect.getmembers(self):\n",
    "            if isinstance(value, Parameter):\n",
    "                print(name, value)\n",
    "                yield value\n",
    "            elif isinstance(value, Test):\n",
    "                yield from value.parameters()\n",
    "\n",
    "    def zero_grad(self):\n",
    "        for parameter in self.parameters():\n",
    "            parameter.zero_grad()\n",
    "            \n",
    "            \n",
    "class Model(Test):\n",
    "    def __init__(self):\n",
    "        self.w = Parameter(3)\n",
    "        self.b = Parameter()\n",
    "\n",
    "    def predict(self, inputs):\n",
    "        return inputs @ self.w + self.b\n",
    "\n",
    "class Model2(Test):\n",
    "    def __init__(self):\n",
    "        self.model = Model()\n",
    "\n",
    "    def predict(self, inputs):\n",
    "        return model.predict(inputs)"
   ]
  },
  {
   "cell_type": "code",
   "execution_count": 13,
   "metadata": {},
   "outputs": [],
   "source": [
    "model = Model()\n",
    "\n",
    "model2 = Model2()"
   ]
  },
  {
   "cell_type": "code",
   "execution_count": 20,
   "metadata": {},
   "outputs": [
    {
     "name": "stdout",
     "output_type": "stream",
     "text": [
      "b Tensor(-1.4955670314679403, requires_grad=False)\n",
      "Tensor(-1.4955670314679403, requires_grad=False)\n",
      "w Tensor([-0.61692534  0.55558979  0.50912653], requires_grad=False)\n",
      "Tensor([-0.61692534  0.55558979  0.50912653], requires_grad=False)\n"
     ]
    }
   ],
   "source": [
    "for i in model2.parameters():\n",
    "    print(i)"
   ]
  },
  {
   "cell_type": "code",
   "execution_count": 14,
   "metadata": {},
   "outputs": [
    {
     "data": {
      "text/plain": [
       "{'w': Tensor([-0.38683286  0.33859879 -1.58316194], requires_grad=False),\n",
       " 'b': Tensor(-0.45928974445201676, requires_grad=False)}"
      ]
     },
     "execution_count": 14,
     "metadata": {},
     "output_type": "execute_result"
    }
   ],
   "source": [
    "model.__dict__"
   ]
  },
  {
   "cell_type": "code",
   "execution_count": null,
   "metadata": {},
   "outputs": [],
   "source": []
  },
  {
   "cell_type": "code",
   "execution_count": null,
   "metadata": {},
   "outputs": [],
   "source": []
  },
  {
   "cell_type": "code",
   "execution_count": null,
   "metadata": {},
   "outputs": [],
   "source": []
  }
 ],
 "metadata": {
  "kernelspec": {
   "display_name": "Python 3",
   "language": "python",
   "name": "python3"
  },
  "language_info": {
   "codemirror_mode": {
    "name": "ipython",
    "version": 3
   },
   "file_extension": ".py",
   "mimetype": "text/x-python",
   "name": "python",
   "nbconvert_exporter": "python",
   "pygments_lexer": "ipython3",
   "version": "3.7.4"
  }
 },
 "nbformat": 4,
 "nbformat_minor": 4
}
