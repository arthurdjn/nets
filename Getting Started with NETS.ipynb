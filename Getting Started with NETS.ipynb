{
 "cells": [
  {
   "cell_type": "markdown",
   "metadata": {},
   "source": [
    "# **Getting Started with NETS**\n",
    "\n",
    "**NETS** is a vanilla Deep Learning framework, made using only **NumPy**.\n",
    "This project was first introduced as an assignment I made at the [University of Oslo](https://www.uio.no/studier/emner/matnat/ifi/IN5400/) and [Stanford University](http://cs231n.stanford.edu/syllabus.html)\n",
    ".\n",
    "However, this project was recreated to make it *object-oriented like*.\n",
    "**NETS** was highly inspired from [PyTorch](https://pytorch.org/) and [TensorFlow](https://www.tensorflow.org/)\n",
    "\n",
    "Requirements :\n",
    "\n",
    "- Numpy\n",
    "- Json (Optional)\n",
    "- Time (Optional)\n",
    "- Pandas (Optional)\n",
    "- Scipy (Optional)\n",
    "- Scikit-Learn (Optional)"
   ]
  },
  {
   "cell_type": "markdown",
   "metadata": {},
   "source": [
    "# 0. Set Up\n",
    "\n",
    "Let's load the packages we need to run our tests:"
   ]
  },
  {
   "cell_type": "code",
   "execution_count": 1,
   "metadata": {},
   "outputs": [],
   "source": [
    "import os\n",
    "import random\n",
    "import numpy as np\n",
    "import matplotlib\n",
    "import matplotlib.pyplot as plt\n",
    "\n",
    "# This is a bit of magic to make matplotlib figures appear inline in the notebook\n",
    "# rather than in a new window.\n",
    "%matplotlib inline\n",
    "plt.rcParams['figure.figsize'] = (10.0, 8.0) # set default size of plots\n",
    "plt.rcParams['image.interpolation'] = 'nearest'\n",
    "\n",
    "# Configure the style of a plot\n",
    "matplotlib.style.use('seaborn-darkgrid')\n",
    "# Change the font ?\n",
    "font = {'size'   : 15}\n",
    "matplotlib.rc('font', **font)"
   ]
  },
  {
   "cell_type": "markdown",
   "metadata": {},
   "source": [
    "# 2. Build a model"
   ]
  },
  {
   "cell_type": "code",
   "execution_count": 2,
   "metadata": {},
   "outputs": [
    {
     "ename": "TypeError",
     "evalue": "tanh() missing 1 required positional argument: 'tensor'",
     "output_type": "error",
     "traceback": [
      "\u001b[1;31m---------------------------------------------------------------------------\u001b[0m",
      "\u001b[1;31mTypeError\u001b[0m                                 Traceback (most recent call last)",
      "\u001b[1;32m<ipython-input-2-4c0dcf539615>\u001b[0m in \u001b[0;36m<module>\u001b[1;34m\u001b[0m\n\u001b[0;32m      4\u001b[0m \u001b[1;33m\u001b[0m\u001b[0m\n\u001b[0;32m      5\u001b[0m model = nn.Sequential(nn.Linear(3, 10), \n\u001b[1;32m----> 6\u001b[1;33m                       \u001b[0mtanh\u001b[0m\u001b[1;33m(\u001b[0m\u001b[1;33m)\u001b[0m\u001b[1;33m,\u001b[0m\u001b[1;33m\u001b[0m\u001b[1;33m\u001b[0m\u001b[0m\n\u001b[0m\u001b[0;32m      7\u001b[0m                       nn.Linear(10, 2))\n",
      "\u001b[1;31mTypeError\u001b[0m: tanh() missing 1 required positional argument: 'tensor'"
     ]
    }
   ],
   "source": [
    "import nets\n",
    "import nets.nn as nn\n",
    "from nets.function import tanh\n",
    "\n",
    "model = nn.Sequential(nn.Linear(3, 10), \n",
    "                      nn.ReLU(),\n",
    "                      nn.Linear(10, 2))"
   ]
  },
  {
   "cell_type": "code",
   "execution_count": 14,
   "metadata": {},
   "outputs": [],
   "source": [
    "X = (np.random.rand(100, 3) * 2 - 1) / 2"
   ]
  },
  {
   "cell_type": "code",
   "execution_count": 15,
   "metadata": {},
   "outputs": [
    {
     "name": "stdout",
     "output_type": "stream",
     "text": [
      "Sanity check:\n",
      "Expected mean: 0, real mean: -0.1033\n"
     ]
    }
   ],
   "source": [
    "print(f\"Sanity check:\")\n",
    "print(f\"Expected mean: 0, real mean: {X.sum(axis=1).mean():1.4f}\")"
   ]
  },
  {
   "cell_type": "code",
   "execution_count": 16,
   "metadata": {},
   "outputs": [],
   "source": [
    "Y = model(X)"
   ]
  },
  {
   "cell_type": "code",
   "execution_count": 17,
   "metadata": {},
   "outputs": [
    {
     "name": "stdout",
     "output_type": "stream",
     "text": [
      "<nets.nn.linear.Linear object at 0x00000223025FCE48>\n"
     ]
    }
   ],
   "source": [
    "for value in model.modules():\n",
    "    print(value)"
   ]
  },
  {
   "cell_type": "code",
   "execution_count": 47,
   "metadata": {},
   "outputs": [
    {
     "name": "stdout",
     "output_type": "stream",
     "text": [
      "1\n",
      "1\n",
      "1\n"
     ]
    }
   ],
   "source": [
    "for cache in model.cache():\n",
    "    print(len(cache))"
   ]
  },
  {
   "cell_type": "code",
   "execution_count": 48,
   "metadata": {},
   "outputs": [
    {
     "name": "stdout",
     "output_type": "stream",
     "text": [
      "{}\n",
      "{}\n",
      "{}\n"
     ]
    }
   ],
   "source": [
    "for grad in model.gradients():\n",
    "    print(grad)"
   ]
  },
  {
   "cell_type": "code",
   "execution_count": 49,
   "metadata": {},
   "outputs": [
    {
     "data": {
      "text/plain": [
       "{}"
      ]
     },
     "execution_count": 49,
     "metadata": {},
     "output_type": "execute_result"
    }
   ],
   "source": [
    "layer = model._modules['linear0']\n",
    "layer._grads"
   ]
  },
  {
   "cell_type": "code",
   "execution_count": null,
   "metadata": {},
   "outputs": [],
   "source": []
  },
  {
   "cell_type": "code",
   "execution_count": null,
   "metadata": {},
   "outputs": [],
   "source": []
  },
  {
   "cell_type": "code",
   "execution_count": null,
   "metadata": {},
   "outputs": [],
   "source": []
  },
  {
   "cell_type": "code",
   "execution_count": null,
   "metadata": {},
   "outputs": [],
   "source": []
  },
  {
   "cell_type": "code",
   "execution_count": null,
   "metadata": {},
   "outputs": [],
   "source": []
  },
  {
   "cell_type": "code",
   "execution_count": 76,
   "metadata": {},
   "outputs": [],
   "source": [
    "from nets.tensor import Tensor\n",
    "from nets.nn import Module\n",
    "from nets.nn.loss import Loss, MSE\n",
    "from nets.optim import Optimizer, SGD\n",
    "from nets.data.batch import BatchIterator\n",
    "from nets.utils import one_hot\n",
    "\n",
    "def train(net, inputs, targets, optimizer, loss,\n",
    "          num_epochs = 5000, iterator = BatchIterator()):\n",
    "    epochs = []\n",
    "    for epoch in range(num_epochs):\n",
    "        epoch_loss = 0.0\n",
    "        for batch in iterator(inputs, targets):\n",
    "            predicted = net.forward(batch.inputs)\n",
    "            epoch_loss += loss(predicted, batch.targets)\n",
    "            grad = loss.backward(predicted, batch.targets)\n",
    "            net.backward(grad)\n",
    "            optimizer.step()\n",
    "            epochs.append(epoch_loss)\n",
    "        print(f\"\\r{epoch}, {epoch_loss:E}\", end=\"\")\n",
    "    return epochs"
   ]
  },
  {
   "cell_type": "code",
   "execution_count": 81,
   "metadata": {},
   "outputs": [
    {
     "name": "stdout",
     "output_type": "stream",
     "text": [
      "4999, 1.962518E-04"
     ]
    }
   ],
   "source": [
    "import numpy as np\n",
    "\n",
    "import nets.nn as nn\n",
    "from nets.nn import Sequential\n",
    "from nets.nn import Linear, ReLU, Tanh\n",
    "\n",
    "inputs = np.array([[0, 0],\n",
    "                   [1, 0],\n",
    "                   [0, 1],\n",
    "                   [1, 1]])\n",
    "\n",
    "targets = np.array([[1, 0],\n",
    "                    [0, 1],\n",
    "                    [0, 1],\n",
    "                    [1, 0]])\n",
    "\n",
    "net = nn.Sequential(\n",
    "                    Linear(2, 10),\n",
    "                    Tanh(),\n",
    "                    Linear(10, 2)\n",
    "                )\n",
    "\n",
    "\n",
    "loss = CrossEntropyLoss()\n",
    "optimizer = SGD(net, lr=0.2)\n",
    "epochs = train(net, inputs, targets, optimizer, loss)\n",
    "\n",
    "# for x, y in zip(inputs, targets):\n",
    "#     predicted = net.forward(x)"
   ]
  },
  {
   "cell_type": "code",
   "execution_count": 82,
   "metadata": {},
   "outputs": [
    {
     "data": {
      "text/plain": [
       "[<matplotlib.lines.Line2D at 0x1dfbfb83f88>]"
      ]
     },
     "execution_count": 82,
     "metadata": {},
     "output_type": "execute_result"
    },
    {
     "data": {
      "image/png": "[encoded data removed]",
      "text/plain": [
       "<Figure size 720x576 with 1 Axes>"
      ]
     },
     "metadata": {},
     "output_type": "display_data"
    }
   ],
   "source": [
    "import matplotlib.pyplot as plt\n",
    "\n",
    "plt.plot(epochs)"
   ]
  },
  {
   "cell_type": "code",
   "execution_count": null,
   "metadata": {},
   "outputs": [],
   "source": []
  },
  {
   "cell_type": "code",
   "execution_count": null,
   "metadata": {},
   "outputs": [],
   "source": []
  },
  {
   "cell_type": "code",
   "execution_count": null,
   "metadata": {},
   "outputs": [],
   "source": []
  },
  {
   "cell_type": "code",
   "execution_count": null,
   "metadata": {},
   "outputs": [],
   "source": []
  },
  {
   "cell_type": "code",
   "execution_count": null,
   "metadata": {},
   "outputs": [],
   "source": []
  },
  {
   "cell_type": "code",
   "execution_count": null,
   "metadata": {},
   "outputs": [],
   "source": []
  },
  {
   "cell_type": "code",
   "execution_count": null,
   "metadata": {},
   "outputs": [],
   "source": []
  },
  {
   "cell_type": "code",
   "execution_count": null,
   "metadata": {},
   "outputs": [],
   "source": []
  },
  {
   "cell_type": "code",
   "execution_count": 1,
   "metadata": {},
   "outputs": [
    {
     "name": "stdout",
     "output_type": "stream",
     "text": [
      "(4999, Tensor(0.0, requires_grad=True))rue)))))))))))))))))"
     ]
    }
   ],
   "source": [
    "from nets.tensor import Tensor\n",
    "\n",
    "x = Tensor([10, -10, 10, -5, 6, 3, 1], requires_grad=True)\n",
    "\n",
    "# we want to minimize the sum of squares\n",
    "for i in range(5000):\n",
    "    x.zero_grad()\n",
    "\n",
    "    sum_of_squares = (x * x).sum()  # is a 0-tensor\n",
    "    sum_of_squares.backward()\n",
    "\n",
    "    # ugly b/c we haven't implemented the stuff yet\n",
    "    delta_x = 0.1 * x.grad\n",
    "    x -= delta_x\n",
    "\n",
    "    print(f\"\\r{i, sum_of_squares}\", end=\"\")"
   ]
  },
  {
   "cell_type": "code",
   "execution_count": null,
   "metadata": {},
   "outputs": [],
   "source": []
  },
  {
   "cell_type": "code",
   "execution_count": 2,
   "metadata": {},
   "outputs": [],
   "source": [
    "x = Tensor([10, -10, 10, -5, 6, 3, 1], requires_grad=True)\n",
    "y = Tensor([10, 0, 0, -5, 6, 3, 1], requires_grad=True)\n",
    "z = Tensor([0, -0, 0, -5, 6, 3, 1], requires_grad=True)"
   ]
  },
  {
   "cell_type": "code",
   "execution_count": 3,
   "metadata": {},
   "outputs": [],
   "source": [
    "z = x + y * 2 * x"
   ]
  },
  {
   "cell_type": "code",
   "execution_count": 4,
   "metadata": {},
   "outputs": [],
   "source": [
    "z.backward(Tensor([10, -10, 10, -5, 6, 3, 1], requires_grad=True))\n"
   ]
  },
  {
   "cell_type": "code",
   "execution_count": 5,
   "metadata": {},
   "outputs": [
    {
     "data": {
      "text/plain": [
       "[Hook(Tensor([10  0  0 -5  6  3  1], requires_grad=True), \n",
       "      grad_fn=<function _mul.<locals>.grad_fn1 at 0x000001B7D80AEDC8>)]"
      ]
     },
     "execution_count": 5,
     "metadata": {},
     "output_type": "execute_result"
    }
   ],
   "source": [
    "z.depends_on[1].tensor.depends_on[0].tensor.depends_on"
   ]
  },
  {
   "cell_type": "code",
   "execution_count": 6,
   "metadata": {},
   "outputs": [],
   "source": [
    "t1 = Tensor([1, 2, 3], requires_grad=True)\n",
    "t2 = Tensor([4, 5, 6], requires_grad=True)\n",
    "\n",
    "t3 = t1 + t2\n",
    "\n",
    "assert t3.data.tolist() == [5, 7, 9]\n",
    "\n",
    "t3.backward(Tensor([-1., -2., -3.]))\n",
    "\n",
    "assert t1.grad.data.tolist() == [-1, -2, -3]\n",
    "assert t2.grad.data.tolist() == [-1, -2, -3]\n",
    "\n",
    "# t1 += 0.1\n",
    "# assert t1.grad is None\n",
    "# assert t1.data.tolist() == [1.1, 2.1, 3.1]"
   ]
  },
  {
   "cell_type": "code",
   "execution_count": 7,
   "metadata": {},
   "outputs": [
    {
     "name": "stdout",
     "output_type": "stream",
     "text": [
      "Tensor([-1. -2. -3.], requires_grad=False)\n",
      "Tensor([-1. -2. -3.], requires_grad=False)\n",
      "Tensor([-1. -2. -3.], requires_grad=False)\n"
     ]
    }
   ],
   "source": [
    "print(t3.grad)\n",
    "print(t2.grad)\n",
    "print(t1.grad)"
   ]
  },
  {
   "cell_type": "code",
   "execution_count": 8,
   "metadata": {},
   "outputs": [],
   "source": [
    "t1 = Tensor([1, 2, 3], requires_grad=True)\n",
    "t2 = Tensor([4, 5, 6], requires_grad=True)\n",
    "\n",
    "t3 = t1 * t2\n",
    "\n",
    "assert t3.data.tolist() == [4, 10, 18]\n",
    "\n",
    "t3.backward(Tensor([-1., -2., -3.]))\n",
    "\n",
    "assert t1.grad.data.tolist() == [-4, -10, -18]\n",
    "assert t2.grad.data.tolist() == [-1,  -4,  -9]\n",
    "\n",
    "# t1 *= 0.1\n",
    "# assert t1.grad is None\n",
    "\n",
    "# np.testing.assert_array_almost_equal(t1.data, [0.1, 0.2, 0.3])"
   ]
  },
  {
   "cell_type": "code",
   "execution_count": 9,
   "metadata": {},
   "outputs": [
    {
     "name": "stdout",
     "output_type": "stream",
     "text": [
      "Tensor([-1. -2. -3.], requires_grad=False)\n",
      "Tensor([-1. -4. -9.], requires_grad=False)\n",
      "Tensor([ -4. -10. -18.], requires_grad=False)\n"
     ]
    }
   ],
   "source": [
    "print(t3.grad)\n",
    "print(t2.grad)\n",
    "print(t1.grad)"
   ]
  },
  {
   "cell_type": "code",
   "execution_count": 10,
   "metadata": {},
   "outputs": [
    {
     "data": {
      "text/plain": [
       "[Hook(Tensor([1 2 3], requires_grad=True), \n",
       "      grad_fn=<function _mul.<locals>.grad_fn1 at 0x000001B7D94FC798>),\n",
       " Hook(Tensor([4 5 6], requires_grad=True), \n",
       "      grad_fn=<function _mul.<locals>.grad_fn2 at 0x000001B7D94FC0D8>)]"
      ]
     },
     "execution_count": 10,
     "metadata": {},
     "output_type": "execute_result"
    }
   ],
   "source": [
    "t3.depends_on"
   ]
  },
  {
   "cell_type": "code",
   "execution_count": null,
   "metadata": {},
   "outputs": [],
   "source": []
  },
  {
   "cell_type": "code",
   "execution_count": null,
   "metadata": {},
   "outputs": [],
   "source": []
  }
 ],
 "metadata": {
  "kernelspec": {
   "display_name": "Python 3",
   "language": "python",
   "name": "python3"
  },
  "language_info": {
   "codemirror_mode": {
    "name": "ipython",
    "version": 3
   },
   "file_extension": ".py",
   "mimetype": "text/x-python",
   "name": "python",
   "nbconvert_exporter": "python",
   "pygments_lexer": "ipython3",
   "version": "3.7.4"
  }
 },
 "nbformat": 4,
 "nbformat_minor": 4
}
